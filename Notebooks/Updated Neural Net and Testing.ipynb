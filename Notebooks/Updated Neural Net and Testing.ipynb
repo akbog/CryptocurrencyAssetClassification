{
 "cells": [
  {
   "cell_type": "markdown",
   "metadata": {},
   "source": [
    "# Neural Net Asset-Type Classifier\n",
    "As a result of previous trials as well as insights drawn from a completed Support Vector Machine Directional Classifier, and GARCH/ARIMA modeling of the following asset classes: S&P500, Gold, EUR/USD, USD/JPN, CBND, TBND, I will attempt to make a classifier, this time into simply four classes (dropping USD/JPN, and CBND - as a result of poor GARCH and ARIMA, as well as poor SVM performance and in order to simplify the model outputs and speed up the learning process).\n",
    "\n",
    "I will be using the following features from my dataset:\n",
    "1. Logged Returns over 20 days (1-month)\n",
    "2. Normalized Trade Volumes over 20 days\n",
    "3. Residual Outputs from an ARIMA Forecasting Model over 20 days\n",
    "\n",
    "The reason behind the use of 20-days is because it performed well in the SVM Classifier, as well as its interpretability of a month's returns. "
   ]
  },
  {
   "cell_type": "code",
   "execution_count": 7,
   "metadata": {},
   "outputs": [],
   "source": [
    "from sklearn.preprocessing import StandardScaler  \n",
    "from sklearn.model_selection import train_test_split  \n",
    "from sklearn.metrics import accuracy_score # \n",
    "import numpy as np\n",
    "import numpy.random as r\n",
    "import matplotlib.pyplot as plt \n",
    "import pandas as pd"
   ]
  },
  {
   "cell_type": "code",
   "execution_count": 8,
   "metadata": {},
   "outputs": [
    {
     "name": "stdout",
     "output_type": "stream",
     "text": [
      "Return Vol Dates: 2004-11-19 2019-04-17\n",
      "Return Vol Shape (3626, 12)\n",
      "Arima Res Dates: 2004-11-19 2019-04-17\n",
      "Arima Res Shape (3626, 6)\n"
     ]
    }
   ],
   "source": [
    "ret_vol = pd.read_csv(\"Final_Data.csv\")\n",
    "arima_res = pd.read_csv(\"ResidualARIMAData.csv\")\n",
    "ret_vol.set_index('Date', inplace = True)\n",
    "arima_res.set_index('Date', inplace = True)\n",
    "ret_vol.drop(ret_vol.tail(1).index,inplace = True)\n",
    "print(\"Return Vol Dates:\",ret_vol.index[0],ret_vol.index[-1])\n",
    "print(\"Return Vol Shape\", ret_vol.shape)\n",
    "print(\"Arima Res Dates:\",arima_res.index[0],arima_res.index[-1])\n",
    "print(\"Arima Res Shape\", arima_res.shape)"
   ]
  },
  {
   "cell_type": "markdown",
   "metadata": {},
   "source": [
    "I will independently build each column (row of 20 days) in a data_matrix (np array). Then hstack the three layers together, with asset classes stacked on top of each other. "
   ]
  },
  {
   "cell_type": "code",
   "execution_count": 9,
   "metadata": {},
   "outputs": [
    {
     "data": {
      "text/plain": [
       "(3626, 8)"
      ]
     },
     "execution_count": 9,
     "metadata": {},
     "output_type": "execute_result"
    }
   ],
   "source": [
    "drop_columns = ['USD_Close','USD_Volume','CBND_Close','CBND_Volume']\n",
    "drop_columns_arima = ['USD_Close','CBND_Close']\n",
    "ret_vol.drop(drop_columns,inplace = True, axis = 1)\n",
    "arima_res.drop(drop_columns_arima,inplace = True,axis = 1)\n",
    "ret_vol.shape"
   ]
  },
  {
   "cell_type": "code",
   "execution_count": 10,
   "metadata": {},
   "outputs": [],
   "source": [
    "#For Returns and Volume\n",
    "num_days = 20\n",
    "data_dict = {}\n",
    "for column in ret_vol:\n",
    "    col_array = ret_vol[column].values\n",
    "    data_matrix = np.zeros((ret_vol.shape[0] - num_days + 1)*num_days).reshape((ret_vol.shape[0] - num_days + 1,num_days))\n",
    "    for i in range(0, ret_vol.shape[0] - num_days + 1):\n",
    "        data_matrix[i,:] = col_array[i:i+num_days]\n",
    "    data_dict[column] = data_matrix"
   ]
  },
  {
   "cell_type": "code",
   "execution_count": 11,
   "metadata": {},
   "outputs": [],
   "source": [
    "#Same for ARIMA Residuals\n",
    "for column in arima_res:\n",
    "    col_array = arima_res[column].values\n",
    "    data_matrix = np.zeros((arima_res.shape[0] - num_days + 1)*num_days).reshape((arima_res.shape[0] - num_days + 1,num_days))\n",
    "    for i in range(0, arima_res.shape[0] - num_days + 1):\n",
    "        data_matrix[i,:] = col_array[i:i+num_days]\n",
    "    data_dict[column + ' Arima'] = data_matrix"
   ]
  },
  {
   "cell_type": "code",
   "execution_count": 21,
   "metadata": {},
   "outputs": [],
   "source": [
    "#Time to hstack\n",
    "asset_dict = {}\n",
    "asset_dict['snp'] = np.hstack((data_dict['SNP_Close'],data_dict['SNP_Volume'],data_dict['SNP_Close Arima']))\n",
    "asset_dict['gld'] = np.hstack((data_dict['GLD_Close'],data_dict['GLD_Volume'],data_dict['GLD_Close Arima']))\n",
    "asset_dict['eur'] = np.hstack((data_dict['EUR_Close'],data_dict['EUR_Volume'],data_dict['EUR_Close Arima']))\n",
    "asset_dict['tbnd'] = np.hstack((data_dict['TBND_Close'],data_dict['TBND_Volume'],data_dict['TBND_Close Arima']))"
   ]
  },
  {
   "cell_type": "code",
   "execution_count": 24,
   "metadata": {},
   "outputs": [],
   "source": [
    "#Time to stack on top of one another to create the final array\n",
    "fin_data = np.vstack((asset_dict['snp'],asset_dict['eur'],asset_dict['gld'],asset_dict['tbnd']))"
   ]
  },
  {
   "cell_type": "code",
   "execution_count": null,
   "metadata": {},
   "outputs": [],
   "source": []
  },
  {
   "cell_type": "code",
   "execution_count": 47,
   "metadata": {},
   "outputs": [],
   "source": [
    "#Creating the Dependent Output Variable of shape [0,0,0,1] etc.\n",
    "#This is pretty simple because we have stacked the data in order\n",
    "class_num = 4\n",
    "fin_dep = np.zeros(fin_data.shape[0]*class_num).reshape(fin_data.shape[0],4)\n",
    "occur = 0\n",
    "for j in range(class_num):\n",
    "    fin_dep[data_matrix.shape[0]*j:data_matrix.shape[0]*(j+1),j] = 1"
   ]
  },
  {
   "cell_type": "code",
   "execution_count": 55,
   "metadata": {},
   "outputs": [
    {
     "name": "stdout",
     "output_type": "stream",
     "text": [
      "3607.0\n",
      "3607.0\n",
      "3607.0\n",
      "3607.0\n"
     ]
    }
   ],
   "source": [
    "#Checking to see that all rows sum correctly\n",
    "for j in range(class_num):\n",
    "    print(np.sum(fin_dep[:,j]))"
   ]
  },
  {
   "cell_type": "markdown",
   "metadata": {},
   "source": [
    "# Code for Neural Network\n",
    "\n",
    "Here we will be trying to do a few differnt things. Because the Neural Network code is so modular, we can experiment with a few different things.\n",
    "\n",
    "Exploring Activation Functions:\n",
    "    1. Sigmoid\n",
    "    2. TanH\n",
    "    3. ReLu\n",
    "\n",
    "Exploring the structure of the Layers. As a result of a lack of time and computing power, we will default to popular rules of thumb for the complexity, debth, etc. of the Neural Network.\n",
    "\n",
    "We will test the data on a train-test split of 0.8/0.2 (not the largest but we do not have a very large dataset when it comes to neural nets, so we will have to make due). In addition, as the final goal is to run the NN as a bitcoin asset classifier, I am comfortable with some level of overfitting."
   ]
  },
  {
   "cell_type": "code",
   "execution_count": 152,
   "metadata": {},
   "outputs": [],
   "source": [
    "Model_Params = {}\n",
    "Accuracy = {}\n",
    "Model_Test_Classification = {}"
   ]
  },
  {
   "cell_type": "code",
   "execution_count": null,
   "metadata": {},
   "outputs": [],
   "source": []
  },
  {
   "cell_type": "code",
   "execution_count": 171,
   "metadata": {},
   "outputs": [],
   "source": [
    "#Starting by building the simple sigmoid Neural Network\n",
    "def f(z):\n",
    "    return 1 / (1 + np.exp(-z))\n",
    "\n",
    "def f_deriv(z):\n",
    "    return f(z) * (1 - f(z))"
   ]
  },
  {
   "cell_type": "code",
   "execution_count": 58,
   "metadata": {},
   "outputs": [],
   "source": [
    "def setup_and_init_weights(nn_structure):\n",
    "    W = {}\n",
    "    b = {}\n",
    "    for l in range(1, len(nn_structure)):\n",
    "        W[l] = r.random_sample((nn_structure[l],nn_structure[l-1]))\n",
    "        b[l] = r.random_sample((nn_structure[l],))\n",
    "    return W, b"
   ]
  },
  {
   "cell_type": "code",
   "execution_count": 59,
   "metadata": {},
   "outputs": [],
   "source": [
    "def init_tri_values(nn_structure):\n",
    "    tri_W = {}\n",
    "    tri_b = {}\n",
    "    for l in range(1, len(nn_structure)):\n",
    "        tri_W[l] = np.zeros((nn_structure[l], nn_structure[l-1]))\n",
    "        tri_b[l] = np.zeros((nn_structure[l], ))\n",
    "    return tri_W, tri_b"
   ]
  },
  {
   "cell_type": "code",
   "execution_count": 60,
   "metadata": {},
   "outputs": [],
   "source": [
    "def feed_forward(x, W, b):\n",
    "    a = {1: x}\n",
    "    z = { }\n",
    "    for l in range(1, len(W) + 1):\n",
    "        node_in = a[l]\n",
    "        z[l+1] = W[l].dot(node_in) + b[l]\n",
    "        a[l+1] = f(z[l+1])\n",
    "    return a, z"
   ]
  },
  {
   "cell_type": "code",
   "execution_count": 61,
   "metadata": {},
   "outputs": [],
   "source": [
    "def calculate_out_layer_delta(y, a_out, z_out):\n",
    "    return -(y - a_out) * f_deriv(z_out)\n",
    "\n",
    "def calculate_hidden_delta(delta_plus_1, w_l, z_l):\n",
    "    return np.dot(np.transpose(w_l), delta_plus_1) * f_deriv(z_l)"
   ]
  },
  {
   "cell_type": "code",
   "execution_count": 62,
   "metadata": {},
   "outputs": [],
   "source": [
    "def train_nn(nn_structure, X, y, iter_num=3000, alpha=0.25, lambd = 0):\n",
    "    W, b = setup_and_init_weights(nn_structure)\n",
    "    cnt = 0\n",
    "    N = len(y)\n",
    "    avg_cost_func = []\n",
    "    print('Starting gradient descent for {} iterations'.format(iter_num))\n",
    "    while cnt < iter_num:\n",
    "        if cnt%1000 == 0:\n",
    "            print('Iteration {} of {}'.format(cnt, iter_num))\n",
    "        tri_W, tri_b = init_tri_values(nn_structure)\n",
    "        avg_cost = 0\n",
    "        for i in range(N):\n",
    "            delta = {}\n",
    "            a, z = feed_forward(X[i, :], W, b)\n",
    "            for l in range(len(nn_structure), 0, -1):\n",
    "                if l == len(nn_structure):\n",
    "                    delta[l] = calculate_out_layer_delta(y[i,:], a[l], z[l])\n",
    "                    avg_cost += np.linalg.norm((y[i,:]-a[l]))\n",
    "                else:\n",
    "                    if l > 1:\n",
    "                        delta[l] = calculate_hidden_delta(delta[l+1], W[l], z[l])\n",
    "                    tri_W[l] += np.dot(delta[l+1][:,np.newaxis], np.transpose(a[l][:,np.newaxis]))\n",
    "                    # trib^(l) = trib^(l) + delta^(l+1)\n",
    "                    tri_b[l] += delta[l+1]\n",
    "        # perform the gradient descent step for the weights in each layer\n",
    "        for l in range(len(nn_structure) - 1, 0, -1):\n",
    "            W[l] += -alpha * (1.0/N * tri_W[l] + lambd*W[l])\n",
    "            b[l] += -alpha * (1.0/N * tri_b[l])\n",
    "        # complete the average cost calculation\n",
    "        avg_cost = 1.0/N * avg_cost\n",
    "        avg_cost_func.append(avg_cost)\n",
    "        cnt += 1\n",
    "    return (W, b, avg_cost_func)\n",
    "\n",
    "def predict_y(W, b, X, n_layers):\n",
    "    N = X.shape[0]\n",
    "    y = np.zeros((N,))\n",
    "    for i in range(N):\n",
    "        a, z = feed_forward(X[i, :], W, b)\n",
    "        y[i] = np.argmax(a[n_layers])\n",
    "    return y"
   ]
  },
  {
   "cell_type": "code",
   "execution_count": 172,
   "metadata": {},
   "outputs": [],
   "source": [
    "X_train, X_test, y_train, y_test = train_test_split(fin_data,fin_dep,test_size = 0.2)"
   ]
  },
  {
   "cell_type": "code",
   "execution_count": 173,
   "metadata": {},
   "outputs": [
    {
     "name": "stdout",
     "output_type": "stream",
     "text": [
      "Starting gradient descent for 3000 iterations\n",
      "Iteration 0 of 3000\n",
      "Iteration 1000 of 3000\n",
      "Iteration 2000 of 3000\n"
     ]
    }
   ],
   "source": [
    "#We will use the rule of thumb of middle layer being 2/3*input + output\n",
    "nn_structure = [60,44,4]\n",
    "Model_Params['Sigmoid'] = train_nn(nn_structure, X_train, y_train, 3000, lambd = 0.0001)"
   ]
  },
  {
   "cell_type": "code",
   "execution_count": 174,
   "metadata": {},
   "outputs": [
    {
     "data": {
      "image/png": "[encoded data removed]",
      "text/plain": [
       "<Figure size 432x288 with 1 Axes>"
      ]
     },
     "metadata": {
      "needs_background": "light"
     },
     "output_type": "display_data"
    }
   ],
   "source": [
    "plt.plot(Model_Params['Sigmoid'][2])\n",
    "plt.ylabel('Average J')\n",
    "plt.xlabel('Iteration number')\n",
    "plt.savefig('First_Neural_Net.png')\n",
    "plt.show()"
   ]
  },
  {
   "cell_type": "code",
   "execution_count": 175,
   "metadata": {},
   "outputs": [],
   "source": [
    "W = Model_Params['Sigmoid'][0]\n",
    "b = Model_Params['Sigmoid'][1]\n",
    "y_sigm_pred = predict_y(W, b, X_test, 3)\n",
    "y_sigm_pred_train = predict_y(W, b, X_train, 3)"
   ]
  },
  {
   "cell_type": "code",
   "execution_count": 176,
   "metadata": {},
   "outputs": [],
   "source": [
    "y_test_vect = np.zeros(y_sigm_pred.shape[0])\n",
    "for i in range(y_test.shape[0]):\n",
    "    for j in range(y_test.shape[1]):\n",
    "        if y_test[i,j] == 1:\n",
    "            y_test_vect[i] = j\n",
    "\n",
    "y_train_vect = np.zeros(y_sigm_pred_train.shape[0])\n",
    "for i in range(y_train.shape[0]):\n",
    "    for j in range(y_train.shape[1]):\n",
    "        if y_train[i,j] == 1:\n",
    "            y_train_vect[i] = j"
   ]
  },
  {
   "cell_type": "code",
   "execution_count": 177,
   "metadata": {},
   "outputs": [
    {
     "name": "stdout",
     "output_type": "stream",
     "text": [
      "Prediction accuracy is 34.71933471933472%\n"
     ]
    }
   ],
   "source": [
    "print('Prediction accuracy is {}%'.format(accuracy_score(y_test_vect, y_sigm_pred) * 100))\n",
    "Accuracy['Sigmoid'] = (accuracy_score(y_test_vect, y_sigm_pred),accuracy_score(y_train_vect,y_sigm_pred_train))"
   ]
  },
  {
   "cell_type": "code",
   "execution_count": 93,
   "metadata": {},
   "outputs": [],
   "source": [
    "#Prediction accuracy achieved is 33.7837837% "
   ]
  },
  {
   "cell_type": "code",
   "execution_count": 178,
   "metadata": {},
   "outputs": [],
   "source": [
    "unique, counts = np.unique(y_sigm_pred, return_counts = True)\n",
    "class_dict = dict(zip(unique,counts))\n",
    "Model_Test_Classification['Sigmoid'] = class_dict"
   ]
  },
  {
   "cell_type": "markdown",
   "metadata": {},
   "source": [
    "# TanH Function"
   ]
  },
  {
   "cell_type": "code",
   "execution_count": 179,
   "metadata": {},
   "outputs": [],
   "source": [
    "def f(z):\n",
    "    return (np.exp(z) - np.exp(-z))/(np.exp(z) + np.exp(-z))\n",
    "\n",
    "def f_deriv(z):\n",
    "    return 1. - (f(z))**2"
   ]
  },
  {
   "cell_type": "code",
   "execution_count": 180,
   "metadata": {},
   "outputs": [],
   "source": [
    "def feed_forward(x, W, b):\n",
    "    a = {1: x}\n",
    "    z = { }\n",
    "    for l in range(1, len(W) + 1):\n",
    "        node_in = a[l]\n",
    "        z[l+1] = W[l].dot(node_in) + b[l]\n",
    "        a[l+1] = f(z[l+1])\n",
    "    return a, z"
   ]
  },
  {
   "cell_type": "code",
   "execution_count": 181,
   "metadata": {},
   "outputs": [
    {
     "name": "stdout",
     "output_type": "stream",
     "text": [
      "Starting gradient descent for 3000 iterations\n",
      "Iteration 0 of 3000\n",
      "Iteration 1000 of 3000\n",
      "Iteration 2000 of 3000\n"
     ]
    }
   ],
   "source": [
    "X_train, X_test, y_train, y_test = train_test_split(fin_data,fin_dep,test_size = 0.2)\n",
    "nn_structure = [60,44,4]\n",
    "Model_Params['TanH'] = train_nn(nn_structure, X_train, y_train, 3000, lambd = 0.005)"
   ]
  },
  {
   "cell_type": "code",
   "execution_count": null,
   "metadata": {},
   "outputs": [],
   "source": []
  },
  {
   "cell_type": "code",
   "execution_count": 183,
   "metadata": {},
   "outputs": [
    {
     "data": {
      "image/png": "[encoded data removed]",
      "text/plain": [
       "<Figure size 432x288 with 1 Axes>"
      ]
     },
     "metadata": {
      "needs_background": "light"
     },
     "output_type": "display_data"
    }
   ],
   "source": [
    "plt.plot(Model_Params['TanH'][2])\n",
    "plt.ylabel('Average J')\n",
    "plt.xlabel('Iteration number')\n",
    "plt.savefig('First_Neural_Net.png')\n",
    "plt.show()"
   ]
  },
  {
   "cell_type": "code",
   "execution_count": 184,
   "metadata": {},
   "outputs": [],
   "source": [
    "W = Model_Params['TanH'][0]\n",
    "b = Model_Params['TanH'][1]\n",
    "y_tanH_pred = predict_y(W, b, X_test, 3)\n",
    "y_tanH_pred_train = predict_y(W, b, X_train, 3)"
   ]
  },
  {
   "cell_type": "code",
   "execution_count": 185,
   "metadata": {},
   "outputs": [],
   "source": [
    "y_test_vect = np.zeros(y_tanH_pred.shape[0])\n",
    "for i in range(y_test.shape[0]):\n",
    "    for j in range(y_test.shape[1]):\n",
    "        if y_test[i,j] == 1:\n",
    "            y_test_vect[i] = j\n",
    "            \n",
    "y_train_vect = np.zeros(y_tanH_pred_train.shape[0])\n",
    "for i in range(y_train.shape[0]):\n",
    "    for j in range(y_train.shape[1]):\n",
    "        if y_train[i,j] == 1:\n",
    "            y_train_vect[i] = j\n",
    "            "
   ]
  },
  {
   "cell_type": "code",
   "execution_count": 186,
   "metadata": {},
   "outputs": [
    {
     "name": "stdout",
     "output_type": "stream",
     "text": [
      "Prediction accuracy is 42.48094248094248%\n"
     ]
    }
   ],
   "source": [
    "print('Prediction accuracy is {}%'.format(accuracy_score(y_test_vect, y_tanH_pred) * 100))\n",
    "Accuracy['TanH'] = (accuracy_score(y_test_vect, y_tanH_pred),accuracy_score(y_train_vect, y_tanH_pred_train))\n"
   ]
  },
  {
   "cell_type": "code",
   "execution_count": 187,
   "metadata": {},
   "outputs": [],
   "source": [
    "unique, counts = np.unique(y_tanH_pred, return_counts = True)\n",
    "class_dict = dict(zip(unique,counts))\n",
    "Model_Test_Classification['TanH'] = class_dict"
   ]
  },
  {
   "cell_type": "markdown",
   "metadata": {},
   "source": [
    "# ReLU Function\n",
    "In order to use ReLU, need to make minor adjustments to the original Neural Net structure. Specifically, need to replace the activation function with ReLU, which is simple given by the boolean result of z > 0 * z, and the derivative is 1, if z > 0 and 0 else. In addition, as the ReLU function outputs the actual value of the last output layer, in order to give this number interpretability, we must pass the output layer through the softmax function, provided below, which increases the interpretability and allows us to perform classification.\n",
    "\n",
    "Added a regularization parameter lambda as well, which is added to the calculation of the cost function. "
   ]
  },
  {
   "cell_type": "code",
   "execution_count": null,
   "metadata": {},
   "outputs": [],
   "source": [
    "#here is the plan regarding this(I will basically use the softmax function)\n",
    "#in order to provide me with my probabilities of which asset class is closest\n",
    "#that will be the conclusion\n",
    "#but I really have to understand where to put the ReLU in reference to that\n"
   ]
  },
  {
   "cell_type": "code",
   "execution_count": 194,
   "metadata": {},
   "outputs": [],
   "source": [
    "def f(z):\n",
    "    return z * (z > 0)\n",
    "\n",
    "def f_deriv(z):\n",
    "    return 1. * (z > 0)\n",
    "\n",
    "def softmax(z):\n",
    "    e_x = np.exp(z - np.max(z))\n",
    "    return e_x / e_x.sum(axis = 0)\n"
   ]
  },
  {
   "cell_type": "code",
   "execution_count": 195,
   "metadata": {},
   "outputs": [],
   "source": [
    "def setup_and_init_weights(nn_structure):\n",
    "    W = {}\n",
    "    b = {}\n",
    "    for l in range(1, len(nn_structure)):\n",
    "        W[l] = r.random_sample((nn_structure[l],nn_structure[l-1]))\n",
    "        b[l] = r.random_sample((nn_structure[l],))\n",
    "    return W, b"
   ]
  },
  {
   "cell_type": "code",
   "execution_count": 196,
   "metadata": {},
   "outputs": [],
   "source": [
    "def init_tri_values(nn_structure):\n",
    "    tri_W = {}\n",
    "    tri_b = {}\n",
    "    for l in range(1, len(nn_structure)):\n",
    "        tri_W[l] = np.zeros((nn_structure[l], nn_structure[l-1]))\n",
    "        tri_b[l] = np.zeros((nn_structure[l], ))\n",
    "    return tri_W, tri_b"
   ]
  },
  {
   "cell_type": "code",
   "execution_count": 197,
   "metadata": {},
   "outputs": [],
   "source": [
    "def feed_forward(x, W, b):\n",
    "    a = {1: x}\n",
    "    z = { }\n",
    "    for l in range(1, len(W) + 1):\n",
    "        node_in = a[l]\n",
    "        z[l+1] = W[l].dot(node_in) + b[l]\n",
    "        if l == len(W):\n",
    "            a[l+1] = softmax(z[l+1])\n",
    "        else:\n",
    "            a[l+1] = f(z[l+1])\n",
    "    return a, z"
   ]
  },
  {
   "cell_type": "code",
   "execution_count": 198,
   "metadata": {},
   "outputs": [],
   "source": [
    "def calculate_out_layer_delta(y, a_out, z_out):\n",
    "    return -(y - a_out) * f_deriv(z_out)\n",
    "\n",
    "def calculate_hidden_delta(delta_plus_1, w_l, z_l):\n",
    "    return np.dot(np.transpose(w_l), delta_plus_1) * f_deriv(z_l)"
   ]
  },
  {
   "cell_type": "code",
   "execution_count": 199,
   "metadata": {},
   "outputs": [],
   "source": [
    "def train_nn(nn_structure, X, y, iter_num=3000, alpha=0.25, lambd = 0):\n",
    "    W, b = setup_and_init_weights(nn_structure)\n",
    "    cnt = 0\n",
    "    N = len(y)\n",
    "    avg_cost_func = []\n",
    "    print('Starting gradient descent for {} iterations'.format(iter_num))\n",
    "    while cnt < iter_num:\n",
    "        if cnt%1000 == 0:\n",
    "            print('Iteration {} of {}'.format(cnt, iter_num))\n",
    "        tri_W, tri_b = init_tri_values(nn_structure)\n",
    "        avg_cost = 0\n",
    "        for i in range(N):\n",
    "            delta = {}\n",
    "            a, z = feed_forward(X[i, :], W, b)\n",
    "            for l in range(len(nn_structure), 0, -1):\n",
    "                if l == len(nn_structure):\n",
    "                    delta[l] = calculate_out_layer_delta(y[i,:], a[l], z[l])\n",
    "                    avg_cost += np.linalg.norm((y[i,:]-a[l]))\n",
    "                else:\n",
    "                    if l > 1:\n",
    "                        delta[l] = calculate_hidden_delta(delta[l+1], W[l], z[l])\n",
    "                    tri_W[l] += np.dot(delta[l+1][:,np.newaxis], np.transpose(a[l][:,np.newaxis]))\n",
    "                    tri_b[l] += delta[l+1]\n",
    "        for l in range(len(nn_structure) - 1, 0, -1):\n",
    "            W[l] += -alpha * (1.0/N * tri_W[l] + lambd*W[l])\n",
    "            b[l] += -alpha * (1.0/N * tri_b[l])\n",
    "        avg_cost = 1.0/N * avg_cost\n",
    "        avg_cost_func.append(avg_cost)\n",
    "        cnt += 1\n",
    "    return W, b, avg_cost_func\n",
    "\n",
    "def predict_y(W, b, X, n_layers):\n",
    "    N = X.shape[0]\n",
    "    y = np.zeros((N,))\n",
    "    for i in range(N):\n",
    "        a, z = feed_forward(X[i, :], W, b)\n",
    "        y[i] = np.argmax(a[n_layers])\n",
    "    return y"
   ]
  },
  {
   "cell_type": "code",
   "execution_count": 200,
   "metadata": {},
   "outputs": [],
   "source": [
    "X_train, X_test, y_train, y_test = train_test_split(fin_data,fin_dep,test_size = 0.2)"
   ]
  },
  {
   "cell_type": "code",
   "execution_count": 201,
   "metadata": {},
   "outputs": [
    {
     "name": "stdout",
     "output_type": "stream",
     "text": [
      "Starting gradient descent for 4000 iterations\n",
      "Iteration 0 of 4000\n",
      "Iteration 1000 of 4000\n",
      "Iteration 2000 of 4000\n",
      "Iteration 3000 of 4000\n"
     ]
    }
   ],
   "source": [
    "nn_structure = [60,44,4]\n",
    "Model_Params['ReLU'] = train_nn(nn_structure, X_train, y_train, 4000, alpha = 0.25, lambd = 0.001)"
   ]
  },
  {
   "cell_type": "code",
   "execution_count": 213,
   "metadata": {},
   "outputs": [],
   "source": [
    "y_relu_pred = predict_y(Model_Params['ReLU'][0], Model_Params['ReLU'][1], X_test, 3)\n",
    "y_relu_pred_train = predict_y(Model_Params['ReLU'][0], Model_Params['ReLU'][1], X_train, 3)"
   ]
  },
  {
   "cell_type": "code",
   "execution_count": 214,
   "metadata": {},
   "outputs": [],
   "source": [
    "y_test_vect = np.zeros(y_relu_pred.shape[0])\n",
    "for i in range(y_test.shape[0]):\n",
    "    for j in range(y_test.shape[1]):\n",
    "        if y_test[i,j] == 1:\n",
    "            y_test_vect[i] = j\n",
    "            \n",
    "y_train_vect = np.zeros(y_relu_pred_train.shape[0])\n",
    "for i in range(y_train.shape[0]):\n",
    "    for j in range(y_train.shape[1]):\n",
    "        if y_train[i,j] == 1:\n",
    "            y_train_vect[i] = j"
   ]
  },
  {
   "cell_type": "code",
   "execution_count": 215,
   "metadata": {},
   "outputs": [],
   "source": [
    "Accuracy['ReLU'] = (accuracy_score(y_test_vect, y_relu_pred),accuracy_score(y_train_vect, y_relu_pred_train))"
   ]
  },
  {
   "cell_type": "code",
   "execution_count": 216,
   "metadata": {},
   "outputs": [
    {
     "name": "stdout",
     "output_type": "stream",
     "text": [
      "Prediction accuracy is 61.53846153846154%\n"
     ]
    }
   ],
   "source": [
    "print('Prediction accuracy is {}%'.format(accuracy_score(y_test_vect, y_relu_pred) * 100))"
   ]
  },
  {
   "cell_type": "code",
   "execution_count": 217,
   "metadata": {},
   "outputs": [],
   "source": [
    "unique, counts = np.unique(y_relu_pred, return_counts = True)\n",
    "class_dict = dict(zip(unique,counts))\n",
    "Model_Test_Classification['ReLU'] = class_dict"
   ]
  },
  {
   "cell_type": "code",
   "execution_count": 218,
   "metadata": {},
   "outputs": [
    {
     "data": {
      "image/png": "[encoded data removed]",
      "text/plain": [
       "<Figure size 432x288 with 1 Axes>"
      ]
     },
     "metadata": {
      "needs_background": "light"
     },
     "output_type": "display_data"
    }
   ],
   "source": [
    "#Prediction Accuracy of 47.57449757449758%\n",
    "#Second Itteratin with 50000 had 49.549549549549546%\n",
    "#This is actually a fairly solid result\n",
    "#It's a result that looks like it could do slightly better with more itterations\n",
    "plt.plot(Model_Params['ReLU'][2])\n",
    "plt.ylabel('Average J')\n",
    "plt.xlabel('Iteration number')\n",
    "plt.savefig('First_Neural_Net.png')\n",
    "plt.show()"
   ]
  },
  {
   "cell_type": "markdown",
   "metadata": {},
   "source": [
    "# Summarizing"
   ]
  },
  {
   "cell_type": "code",
   "execution_count": 232,
   "metadata": {},
   "outputs": [],
   "source": [
    "acc_df = pd.DataFrame()\n",
    "column = ['S&P 500', 'EUR/USD','GOLD','Treas_Bond','Test Accuracy', 'Train Accuracy']\n",
    "ind = ['Sigmoid','TanH','ReLU']\n",
    "acc_df = pd.DataFrame(index = ind, columns = column)\n",
    "acc_df['S&P 500'][0] = Model_Test_Classification['Sigmoid'][0.0]\n",
    "acc_df['S&P 500'][1] = Model_Test_Classification['TanH'][0.0]\n",
    "acc_df['S&P 500'][2] = Model_Test_Classification['ReLU'][0.0]\n",
    "acc_df['EUR/USD'][0] = Model_Test_Classification['Sigmoid'][1.0]\n",
    "acc_df['EUR/USD'][1] = Model_Test_Classification['TanH'][1.0]\n",
    "acc_df['EUR/USD'][2] = Model_Test_Classification['ReLU'][1.0]\n",
    "acc_df['Treas_Bond'][0] = Model_Test_Classification['Sigmoid'][3.0]\n",
    "acc_df['Treas_Bond'][1] = Model_Test_Classification['TanH'][3.0]\n",
    "acc_df['Treas_Bond'][2] = Model_Test_Classification['ReLU'][3.0]\n",
    "acc_df['GOLD'][0] = Model_Test_Classification['Sigmoid'][2.0]\n",
    "acc_df['GOLD'][1] = Model_Test_Classification['TanH'][2.0]\n",
    "acc_df['GOLD'][2] = Model_Test_Classification['ReLU'][2.0]\n",
    "acc_df['Test Accuracy'][0] = Accuracy['Sigmoid'][0]\n",
    "acc_df['Test Accuracy'][1] = Accuracy['TanH'][0]\n",
    "acc_df['Test Accuracy'][2] = Accuracy['ReLU'][0]\n",
    "acc_df['Train Accuracy'][0] = Accuracy['Sigmoid'][1]\n",
    "acc_df['Train Accuracy'][1] = Accuracy['TanH'][1]\n",
    "acc_df['Train Accuracy'][2] = Accuracy['ReLU'][1]"
   ]
  },
  {
   "cell_type": "code",
   "execution_count": 233,
   "metadata": {},
   "outputs": [
    {
     "data": {
      "text/html": [
       "<div>\n",
       "<style scoped>\n",
       "    .dataframe tbody tr th:only-of-type {\n",
       "        vertical-align: middle;\n",
       "    }\n",
       "\n",
       "    .dataframe tbody tr th {\n",
       "        vertical-align: top;\n",
       "    }\n",
       "\n",
       "    .dataframe thead th {\n",
       "        text-align: right;\n",
       "    }\n",
       "</style>\n",
       "<table border=\"1\" class=\"dataframe\">\n",
       "  <thead>\n",
       "    <tr style=\"text-align: right;\">\n",
       "      <th></th>\n",
       "      <th>S&amp;P 500</th>\n",
       "      <th>EUR/USD</th>\n",
       "      <th>GOLD</th>\n",
       "      <th>Treas_Bond</th>\n",
       "      <th>Test Accuracy</th>\n",
       "      <th>Train Accuracy</th>\n",
       "    </tr>\n",
       "  </thead>\n",
       "  <tbody>\n",
       "    <tr>\n",
       "      <th>Sigmoid</th>\n",
       "      <td>1289</td>\n",
       "      <td>1167</td>\n",
       "      <td>21</td>\n",
       "      <td>409</td>\n",
       "      <td>0.347193</td>\n",
       "      <td>0.350806</td>\n",
       "    </tr>\n",
       "    <tr>\n",
       "      <th>TanH</th>\n",
       "      <td>584</td>\n",
       "      <td>1520</td>\n",
       "      <td>200</td>\n",
       "      <td>582</td>\n",
       "      <td>0.424809</td>\n",
       "      <td>0.436839</td>\n",
       "    </tr>\n",
       "    <tr>\n",
       "      <th>ReLU</th>\n",
       "      <td>577</td>\n",
       "      <td>779</td>\n",
       "      <td>745</td>\n",
       "      <td>785</td>\n",
       "      <td>0.615385</td>\n",
       "      <td>0.664703</td>\n",
       "    </tr>\n",
       "  </tbody>\n",
       "</table>\n",
       "</div>"
      ],
      "text/plain": [
       "        S&P 500 EUR/USD GOLD Treas_Bond Test Accuracy Train Accuracy\n",
       "Sigmoid    1289    1167   21        409      0.347193       0.350806\n",
       "TanH        584    1520  200        582      0.424809       0.436839\n",
       "ReLU        577     779  745        785      0.615385       0.664703"
      ]
     },
     "execution_count": 233,
     "metadata": {},
     "output_type": "execute_result"
    }
   ],
   "source": [
    "acc_df"
   ]
  },
  {
   "cell_type": "code",
   "execution_count": 228,
   "metadata": {},
   "outputs": [
    {
     "name": "stdout",
     "output_type": "stream",
     "text": [
      "[[0.56672444 0.03465982 0.28456376 0.21528662]\n",
      " [0.05025997 0.80231065 0.01073826 0.03949045]\n",
      " [0.24610052 0.00256739 0.56241611 0.22929936]\n",
      " [0.13691508 0.16046213 0.14228188 0.51592357]]\n"
     ]
    }
   ],
   "source": [
    "from sklearn.metrics import confusion_matrix\n",
    "C = confusion_matrix(y_test_vect,y_relu_pred)\n",
    "Csum = np.sum(C,axis=0)\n",
    "Cnorm = C / Csum[None,:]\n",
    "#Print Best models confusion matrix\n",
    "ind = ['S&P 500', 'EUR/USD','GOLD','Treas_Bond']\n",
    "column = ['S&P 500', 'EUR/USD','GOLD','Treas_Bond']\n",
    "conf_mat = pd.DataFrame(index = ind, columns = column, data = Cnorm)\n",
    "conf_mat"
   ]
  },
  {
   "cell_type": "code",
   "execution_count": 193,
   "metadata": {},
   "outputs": [
    {
     "data": {
      "text/plain": [
       "dict_keys(['TanH', 'Sigmoid'])"
      ]
     },
     "execution_count": 193,
     "metadata": {},
     "output_type": "execute_result"
    }
   ],
   "source": [
    "Model_Params.keys()"
   ]
  },
  {
   "cell_type": "code",
   "execution_count": 190,
   "metadata": {},
   "outputs": [
    {
     "data": {
      "text/plain": [
       "{'Sigmoid': {0.0: 1289, 1.0: 1167, 2.0: 21, 3.0: 409},\n",
       " 'TanH': {0.0: 584, 1.0: 1520, 2.0: 200, 3.0: 582}}"
      ]
     },
     "execution_count": 190,
     "metadata": {},
     "output_type": "execute_result"
    }
   ],
   "source": [
    "Model_Test_Classification"
   ]
  },
  {
   "cell_type": "markdown",
   "metadata": {},
   "source": [
    "# Applying Bitcoin Returns to the Best NN"
   ]
  },
  {
   "cell_type": "code",
   "execution_count": 119,
   "metadata": {},
   "outputs": [
    {
     "name": "stdout",
     "output_type": "stream",
     "text": [
      "(3200, 2)\n"
     ]
    },
    {
     "data": {
      "text/html": [
       "<div>\n",
       "<style scoped>\n",
       "    .dataframe tbody tr th:only-of-type {\n",
       "        vertical-align: middle;\n",
       "    }\n",
       "\n",
       "    .dataframe tbody tr th {\n",
       "        vertical-align: top;\n",
       "    }\n",
       "\n",
       "    .dataframe thead th {\n",
       "        text-align: right;\n",
       "    }\n",
       "</style>\n",
       "<table border=\"1\" class=\"dataframe\">\n",
       "  <thead>\n",
       "    <tr style=\"text-align: right;\">\n",
       "      <th></th>\n",
       "      <th>BTC_Close</th>\n",
       "      <th>BTC_Volume</th>\n",
       "    </tr>\n",
       "    <tr>\n",
       "      <th>Date</th>\n",
       "      <th></th>\n",
       "      <th></th>\n",
       "    </tr>\n",
       "  </thead>\n",
       "  <tbody>\n",
       "    <tr>\n",
       "      <th>2010-07-17</th>\n",
       "      <td>0.550310</td>\n",
       "      <td>-0.374477</td>\n",
       "    </tr>\n",
       "    <tr>\n",
       "      <th>2010-07-18</th>\n",
       "      <td>-0.060508</td>\n",
       "      <td>-0.374477</td>\n",
       "    </tr>\n",
       "    <tr>\n",
       "      <th>2010-07-19</th>\n",
       "      <td>-0.077962</td>\n",
       "      <td>-0.374477</td>\n",
       "    </tr>\n",
       "    <tr>\n",
       "      <th>2010-07-20</th>\n",
       "      <td>0.058087</td>\n",
       "      <td>-0.374477</td>\n",
       "    </tr>\n",
       "    <tr>\n",
       "      <th>2010-07-21</th>\n",
       "      <td>-0.450129</td>\n",
       "      <td>-0.374477</td>\n",
       "    </tr>\n",
       "  </tbody>\n",
       "</table>\n",
       "</div>"
      ],
      "text/plain": [
       "            BTC_Close  BTC_Volume\n",
       "Date                             \n",
       "2010-07-17   0.550310   -0.374477\n",
       "2010-07-18  -0.060508   -0.374477\n",
       "2010-07-19  -0.077962   -0.374477\n",
       "2010-07-20   0.058087   -0.374477\n",
       "2010-07-21  -0.450129   -0.374477"
      ]
     },
     "execution_count": 119,
     "metadata": {},
     "output_type": "execute_result"
    }
   ],
   "source": [
    "#Importing Bitcoin DataSet\n",
    "btc = pd.read_csv(\"BTC_Final.csv\")\n",
    "btc.set_index('Date',inplace = True)\n",
    "print(btc.shape)\n",
    "btc.head()"
   ]
  },
  {
   "cell_type": "code",
   "execution_count": 120,
   "metadata": {},
   "outputs": [
    {
     "data": {
      "text/html": [
       "<div>\n",
       "<style scoped>\n",
       "    .dataframe tbody tr th:only-of-type {\n",
       "        vertical-align: middle;\n",
       "    }\n",
       "\n",
       "    .dataframe tbody tr th {\n",
       "        vertical-align: top;\n",
       "    }\n",
       "\n",
       "    .dataframe thead th {\n",
       "        text-align: right;\n",
       "    }\n",
       "</style>\n",
       "<table border=\"1\" class=\"dataframe\">\n",
       "  <thead>\n",
       "    <tr style=\"text-align: right;\">\n",
       "      <th></th>\n",
       "      <th>BTC_Res</th>\n",
       "    </tr>\n",
       "    <tr>\n",
       "      <th>Date</th>\n",
       "      <th></th>\n",
       "    </tr>\n",
       "  </thead>\n",
       "  <tbody>\n",
       "    <tr>\n",
       "      <th>2014-05-17</th>\n",
       "      <td>-0.005870</td>\n",
       "    </tr>\n",
       "    <tr>\n",
       "      <th>2014-05-18</th>\n",
       "      <td>-0.014000</td>\n",
       "    </tr>\n",
       "    <tr>\n",
       "      <th>2014-05-19</th>\n",
       "      <td>0.087373</td>\n",
       "    </tr>\n",
       "    <tr>\n",
       "      <th>2014-05-20</th>\n",
       "      <td>0.009015</td>\n",
       "    </tr>\n",
       "    <tr>\n",
       "      <th>2014-05-21</th>\n",
       "      <td>0.055924</td>\n",
       "    </tr>\n",
       "  </tbody>\n",
       "</table>\n",
       "</div>"
      ],
      "text/plain": [
       "             BTC_Res\n",
       "Date                \n",
       "2014-05-17 -0.005870\n",
       "2014-05-18 -0.014000\n",
       "2014-05-19  0.087373\n",
       "2014-05-20  0.009015\n",
       "2014-05-21  0.055924"
      ]
     },
     "execution_count": 120,
     "metadata": {},
     "output_type": "execute_result"
    }
   ],
   "source": [
    "btc_arima = pd.read_csv(\"BTC_Arima_Residuals.csv\")\n",
    "btc_arima.set_index('Date', inplace = True)\n",
    "btc_arima.head()"
   ]
  },
  {
   "cell_type": "code",
   "execution_count": 121,
   "metadata": {},
   "outputs": [],
   "source": [
    "num_days = 20\n",
    "for column in btc:\n",
    "    col_array = btc[column].values\n",
    "    data_matrix = np.zeros((btc.shape[0] - num_days + 1)*num_days).reshape((btc.shape[0] - num_days + 1,num_days))\n",
    "    for i in range(0, btc.shape[0] - num_days + 1):\n",
    "        data_matrix[i,:] = col_array[i:i+num_days]\n",
    "    data_dict[column] = data_matrix"
   ]
  },
  {
   "cell_type": "code",
   "execution_count": 122,
   "metadata": {},
   "outputs": [],
   "source": [
    "#For Arima\n",
    "num_days = 20\n",
    "for column in btc_arima:\n",
    "    col_array = btc_arima[column].values\n",
    "    data_matrix = np.zeros((btc_arima.shape[0] - num_days + 1)*num_days).reshape((btc_arima.shape[0] - num_days + 1,num_days))\n",
    "    for i in range(0, btc_arima.shape[0] - num_days + 1):\n",
    "        data_matrix[i,:] = col_array[i:i+num_days]\n",
    "    data_dict[column] = data_matrix"
   ]
  },
  {
   "cell_type": "code",
   "execution_count": 123,
   "metadata": {},
   "outputs": [
    {
     "name": "stdout",
     "output_type": "stream",
     "text": [
      "(1781, 20)\n",
      "(1781, 20)\n"
     ]
    }
   ],
   "source": [
    "print(data_dict['BTC_Close'][1400:].shape)\n",
    "print(data_dict['BTC_Res'].shape)"
   ]
  },
  {
   "cell_type": "code",
   "execution_count": 124,
   "metadata": {},
   "outputs": [],
   "source": [
    "asset_dict['btc'] = np.hstack((data_dict['BTC_Close'][1400:],data_dict['BTC_Volume'][1400:],data_dict['BTC_Res']))"
   ]
  },
  {
   "cell_type": "code",
   "execution_count": 234,
   "metadata": {},
   "outputs": [
    {
     "name": "stdout",
     "output_type": "stream",
     "text": [
      "[3. 3. 3. ... 0. 0. 1.]\n"
     ]
    }
   ],
   "source": [
    "btc_pred = predict_y(Model_Params['ReLU'][0], Model_Params['ReLU'][1], asset_dict['btc'], 3)\n",
    "print(btc_pred)"
   ]
  },
  {
   "cell_type": "code",
   "execution_count": 235,
   "metadata": {},
   "outputs": [],
   "source": [
    "unique, counts = np.unique(btc_pred, return_counts = True)"
   ]
  },
  {
   "cell_type": "code",
   "execution_count": 236,
   "metadata": {},
   "outputs": [
    {
     "name": "stdout",
     "output_type": "stream",
     "text": [
      "{0.0: 236, 1.0: 1071, 2.0: 34, 3.0: 440}\n"
     ]
    }
   ],
   "source": [
    "btc_class_dict = dict(zip(unique,counts))\n",
    "print(btc_class_dict)\n",
    "#We actually have relatively conclusive results"
   ]
  },
  {
   "cell_type": "markdown",
   "metadata": {},
   "source": [
    "# Putting it all together"
   ]
  },
  {
   "cell_type": "code",
   "execution_count": 237,
   "metadata": {},
   "outputs": [],
   "source": [
    "#ReLU Classifier Table\n",
    "btc_class_df = pd.DataFrame()\n",
    "column = ['S&P 500', 'EUR/USD','GOLD','Treas_Bond']\n",
    "ind = ['ReLU Classification']\n",
    "btc_class_df = pd.DataFrame(index = ind, columns = column)\n",
    "btc_class_df['S&P 500'] = btc_class_dict[0.0]\n",
    "btc_class_df['EUR/USD'] = btc_class_dict[1.0]\n",
    "btc_class_df['GOLD'] = btc_class_dict[2.0]\n",
    "btc_class_df['Treas_Bond'] = btc_class_dict[3.0]\n"
   ]
  },
  {
   "cell_type": "code",
   "execution_count": 239,
   "metadata": {},
   "outputs": [
    {
     "data": {
      "text/html": [
       "<div>\n",
       "<style scoped>\n",
       "    .dataframe tbody tr th:only-of-type {\n",
       "        vertical-align: middle;\n",
       "    }\n",
       "\n",
       "    .dataframe tbody tr th {\n",
       "        vertical-align: top;\n",
       "    }\n",
       "\n",
       "    .dataframe thead th {\n",
       "        text-align: right;\n",
       "    }\n",
       "</style>\n",
       "<table border=\"1\" class=\"dataframe\">\n",
       "  <thead>\n",
       "    <tr style=\"text-align: right;\">\n",
       "      <th></th>\n",
       "      <th>S&amp;P 500</th>\n",
       "      <th>EUR/USD</th>\n",
       "      <th>GOLD</th>\n",
       "      <th>Treas_Bond</th>\n",
       "    </tr>\n",
       "  </thead>\n",
       "  <tbody>\n",
       "    <tr>\n",
       "      <th>ReLU Classification</th>\n",
       "      <td>0.13251</td>\n",
       "      <td>0.601348</td>\n",
       "      <td>0.01909</td>\n",
       "      <td>0.247052</td>\n",
       "    </tr>\n",
       "  </tbody>\n",
       "</table>\n",
       "</div>"
      ],
      "text/plain": [
       "                     S&P 500   EUR/USD     GOLD  Treas_Bond\n",
       "ReLU Classification  0.13251  0.601348  0.01909    0.247052"
      ]
     },
     "execution_count": 239,
     "metadata": {},
     "output_type": "execute_result"
    }
   ],
   "source": [
    "btc_class_df/1781"
   ]
  }
 ],
 "metadata": {
  "kernelspec": {
   "display_name": "Python 3",
   "language": "python",
   "name": "python3"
  },
  "language_info": {
   "codemirror_mode": {
    "name": "ipython",
    "version": 3
   },
   "file_extension": ".py",
   "mimetype": "text/x-python",
   "name": "python",
   "nbconvert_exporter": "python",
   "pygments_lexer": "ipython3",
   "version": "3.7.1"
  }
 },
 "nbformat": 4,
 "nbformat_minor": 2
}
